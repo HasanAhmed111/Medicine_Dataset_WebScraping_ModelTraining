{
  "nbformat": 4,
  "nbformat_minor": 0,
  "metadata": {
    "colab": {
      "provenance": []
    },
    "kernelspec": {
      "name": "python3",
      "display_name": "Python 3"
    },
    "language_info": {
      "name": "python"
    }
  },
  "cells": [
    {
      "cell_type": "code",
      "execution_count": null,
      "metadata": {
        "id": "ZaGCwCzGOoKZ"
      },
      "outputs": [],
      "source": [
        "from bs4 import BeautifulSoup\n",
        "import pandas as pd\n",
        "import requests"
      ]
    },
    {
      "cell_type": "code",
      "source": [
        "url = 'https://sehat.com.pk/categories/Medications/'\n",
        "url0 = 'https://sehat.com.pk/categories/Medications/?sort=featured&page=2'\n",
        "url1 = 'https://sehat.com.pk/categories/Medications/?sort=featured&page=3'\n",
        "url2 = 'https://sehat.com.pk/categories/Medications/?sort=featured&page=4'\n",
        "url3 = 'https://sehat.com.pk/categories/Medications/?sort=featured&page=5'\n",
        "url4 = 'https://dawaai.pk/all-medicines/a'\n",
        "page = requests.get(url)\n",
        "page0 = requests.get(url0)\n",
        "page1 = requests.get(url1)\n",
        "page2 = requests.get(url2)\n",
        "page3 = requests.get(url3)\n",
        "page4 = requests.get(url4)\n",
        "soup = BeautifulSoup(page.content, 'html')\n",
        "soup0 = BeautifulSoup(page0.content, 'html')\n",
        "soup1 = BeautifulSoup(page1.content, 'html')\n",
        "soup2 = BeautifulSoup(page2.content, 'html')\n",
        "soup3 = BeautifulSoup(page3.content, 'html')\n",
        "soup4 = BeautifulSoup(page4.content, 'html')"
      ],
      "metadata": {
        "id": "gA9IwGKTPEZ2"
      },
      "execution_count": null,
      "outputs": []
    },
    {
      "cell_type": "code",
      "source": [
        "# soup\n",
        "# soup0\n",
        "# soup1\n",
        "# soup2\n",
        "# soup3\n",
        "soup4"
      ],
      "metadata": {
        "id": "dj0TngxJPQnt"
      },
      "execution_count": null,
      "outputs": []
    },
    {
      "cell_type": "code",
      "source": [],
      "metadata": {
        "id": "Dx2XWDMAoS_1"
      },
      "execution_count": null,
      "outputs": []
    },
    {
      "cell_type": "code",
      "source": [
        "table = soup.find_all('div', class_='col-md-12 d-table-cell text-center pl-1 pr-1 noSwipe')\n",
        "table_p = soup.find_all('div', class_='ProductPriceRating d-table-cell text-center pl-1 pr-1 align-middle')\n",
        "table0 = soup0.find_all('div', class_='col-md-12 d-table-cell text-center pl-1 pr-1 noSwipe')\n",
        "table1 = soup1.find_all('div', class_='col-md-12 d-table-cell text-center pl-1 pr-1 noSwipe')\n",
        "table2 = soup2.find_all('div', class_='col-md-12 d-table-cell text-center pl-1 pr-1 noSwipe')\n",
        "table3 = soup3.find_all('div', class_='col-md-12 d-table-cell text-center pl-1 pr-1 noSwipe')\n",
        "table4 = soup4.find_all('div', class_='card-body')"
      ],
      "metadata": {
        "id": "T4jHGE8m-Ox-"
      },
      "execution_count": null,
      "outputs": []
    },
    {
      "cell_type": "code",
      "source": [
        "# table_p"
      ],
      "metadata": {
        "id": "pk9cklM3oa3O"
      },
      "execution_count": null,
      "outputs": []
    },
    {
      "cell_type": "code",
      "source": [
        "medicine_p = [div.find('em').text.strip() for div in table_p]\n",
        "medicine_p"
      ],
      "metadata": {
        "id": "i6ZeRBPro58r"
      },
      "execution_count": null,
      "outputs": []
    },
    {
      "cell_type": "code",
      "source": [
        "medicine_names = [div.find('a').text.strip() for div in table]\n",
        "medicine_names0 = [div.find('a').text.strip() for div in table0]\n",
        "medicine_names1 = [div.find('a').text.strip() for div in table1]\n",
        "medicine_names2 = [div.find('a').text.strip() for div in table2]\n",
        "medicine_names3 = [div.find('a').text.strip() for div in table3]\n",
        "medicine_names4 = [div.find('a').text.strip() for div in table4]\n",
        "medicine_names.extend(medicine_names0)\n",
        "medicine_names.extend(medicine_names1)\n",
        "medicine_names.extend(medicine_names2)\n",
        "medicine_names.extend(medicine_names3)\n",
        "medicine_names.extend(medicine_names4)\n",
        "medicine_names"
      ],
      "metadata": {
        "id": "Eg4smq-Immdb"
      },
      "execution_count": null,
      "outputs": []
    },
    {
      "cell_type": "code",
      "source": [
        "duplicates = [item for item in set(medicine_names) if medicine_names.count(item) > 1]\n",
        "print(len(duplicates),len(medicine_names))"
      ],
      "metadata": {
        "id": "aPEEG50Emo9k"
      },
      "execution_count": null,
      "outputs": []
    },
    {
      "cell_type": "code",
      "source": [
        "unique_list = []\n",
        "[unique_list.append(item) for item in medicine_names if item not in unique_list]\n",
        "print(unique_list)\n",
        "print(len(unique_list))"
      ],
      "metadata": {
        "id": "AGEEhmY9q4O2"
      },
      "execution_count": null,
      "outputs": []
    },
    {
      "cell_type": "code",
      "source": [
        "unique_list = []\n",
        "[unique_list.append(item) for item in medicine_names if item not in unique_list]\n",
        "print(unique_list)\n",
        "print(len(unique_list),len(medicine_names))"
      ],
      "metadata": {
        "id": "jYHy5pe4FbqJ"
      },
      "execution_count": null,
      "outputs": []
    },
    {
      "cell_type": "code",
      "source": [
        "duplicates = [item for item in set(medicine_names4) if medicine_names4.count(item) > 1]\n",
        "print(len(duplicates),len(medicine_names4))"
      ],
      "metadata": {
        "id": "h-Oenqc2qM2D"
      },
      "execution_count": null,
      "outputs": []
    },
    {
      "cell_type": "code",
      "source": [
        "unique_list0 = []\n",
        "[unique_list0.append(item) for item in medicine_names4 if item not in unique_list0]\n",
        "print(unique_list0)\n",
        "print(len(unique_list0))"
      ],
      "metadata": {
        "id": "-qAvAms_rdHt"
      },
      "execution_count": null,
      "outputs": []
    },
    {
      "cell_type": "code",
      "source": [
        "unique_list.extend(unique_list0)"
      ],
      "metadata": {
        "id": "H6InF8xoCsCA"
      },
      "execution_count": null,
      "outputs": []
    },
    {
      "cell_type": "code",
      "source": [
        "df = pd.DataFrame(columns=['Medicine Name'])\n",
        "df['Medicine Name'] = unique_list\n",
        "df"
      ],
      "metadata": {
        "id": "DkPiLupBP9n_"
      },
      "execution_count": null,
      "outputs": []
    },
    {
      "cell_type": "code",
      "source": [
        "from bs4 import BeautifulSoup\n",
        "import requests\n",
        "\n",
        "# URLs to scrape\n",
        "urls = [\n",
        "    'https://sehat.com.pk/categories/Medications/',\n",
        "    'https://sehat.com.pk/categories/Medications/?sort=featured&page=2',\n",
        "    'https://sehat.com.pk/categories/Medications/?sort=featured&page=3',\n",
        "    'https://sehat.com.pk/categories/Medications/?sort=featured&page=4',\n",
        "    'https://sehat.com.pk/categories/Medications/?sort=featured&page=5',\n",
        "]\n",
        "\n",
        "dawaai_urls = [\n",
        "    f'https://dawaai.pk/all-medicines/{chr(i)}' for i in range(97, 123)  # a-z\n",
        "]\n",
        "\n",
        "# Function to extract medicine names from a single page\n",
        "def extract_medicine_names(url, container_class, link_tag='a'):\n",
        "    response = requests.get(url)\n",
        "    soup = BeautifulSoup(response.content, 'html.parser')\n",
        "    containers = soup.find_all('div', class_=container_class)\n",
        "    names = []\n",
        "    for container in containers:\n",
        "        link = container.find(link_tag)\n",
        "        if link:\n",
        "            names.append(link.text.strip())\n",
        "    return names\n",
        "\n",
        "# Extract data from Sehat\n",
        "sehat_medicine_names = []\n",
        "for url in urls:\n",
        "    sehat_medicine_names.extend(extract_medicine_names(url, 'col-md-12 d-table-cell text-center pl-1 pr-1 noSwipe'))\n",
        "\n",
        "# Extract data from Dawaai\n",
        "dawaai_medicine_names = []\n",
        "for url in dawaai_urls:\n",
        "    dawaai_medicine_names.extend(extract_medicine_names(url, 'card-body'))\n",
        "\n",
        "# Combine and remove duplicates\n",
        "all_medicine_names = list(set(sehat_medicine_names + dawaai_medicine_names))\n",
        "\n",
        "# Save to file\n",
        "import pandas as pd\n",
        "df = pd.DataFrame(all_medicine_names, columns=['Medicine Name'])\n",
        "# df.to_excel('medicine_data.xlsx', index=False)\n",
        "# print(\"Data saved to medicine_data.xlsx\")\n",
        "df\n"
      ],
      "metadata": {
        "id": "RPp5hiY367aT"
      },
      "execution_count": null,
      "outputs": []
    }
  ]
}